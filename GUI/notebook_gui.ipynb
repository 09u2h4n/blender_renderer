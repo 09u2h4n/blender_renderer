{
  "nbformat": 4,
  "nbformat_minor": 0,
  "metadata": {
    "colab": {
      "provenance": [],
      "gpuType": "T4"
    },
    "kernelspec": {
      "name": "python3",
      "display_name": "Python 3"
    },
    "language_info": {
      "name": "python"
    },
    "accelerator": "GPU"
  },
  "cells": [
    {
      "cell_type": "code",
      "execution_count": 1,
      "metadata": {
        "id": "m7UpkR0zoPfj",
        "collapsed": true,
        "cellView": "form"
      },
      "outputs": [],
      "source": [
        "# @title ## Prepare work env\n",
        "!rm -rf ./* /content/.git\n",
        "!rm -rf /content/sample_data /content/.config /content/.ipynb_checkpoints\n",
        "!git clone -q https://github.com/09u2h4n/blender_renderer.git .\n",
        "!mkdir -p /content/render"
      ]
    },
    {
      "cell_type": "code",
      "source": [
        "# @title ##Install Blender\n",
        "\n",
        "from utils.blender import download_blender, set_blender_for_linux\n",
        "\n",
        "blender_version = \"4.0.2\" # @param [\"3.6.4\", \"4.0.2\", \"latest\"]\n",
        "use_blender_on_drive = False # @param {type:\"boolean\"}\n",
        "\n",
        "if use_blender_on_drive:\n",
        "    set_blender_for_linux(blender_version=blender_version, use_blender_on_drive=use_blender_on_drive)\n",
        "else:\n",
        "    download_blender(blender_version=blender_version)\n",
        "    set_blender_for_linux(blender_version=blender_version)"
      ],
      "metadata": {
        "id": "NXOwgqitZbOY",
        "collapsed": true,
        "cellView": "form"
      },
      "execution_count": null,
      "outputs": []
    },
    {
      "cell_type": "code",
      "execution_count": 8,
      "metadata": {
        "cellView": "form",
        "id": "M5FIwLOyDHbO"
      },
      "outputs": [],
      "source": [
        "# @title # Render Settings\n",
        "import os\n",
        "import json\n",
        "\n",
        "# @markdown ---\n",
        "# @markdown Path Settings:\n",
        "blend_file_name = \"cube.blend\" # @param {type:\"string\"}\n",
        "output_path = \"/content/output/output_file\" # @param {type:\"string\"}\n",
        "# @markdown ---\n",
        "# @markdown ## File Settings\n",
        "use_file_setting = False # @param {type:\"boolean\"}\n",
        "resolution_x = 1920 # @param {type:\"integer\"}\n",
        "resolution_y = 1080 # @param {type:\"integer\"}\n",
        "samples = 20 # @param {type:\"integer\"}\n",
        "# output_extension = \"PNG\" # @param ['BMP', 'IRIS', 'PNG', 'JPEG', 'JPEG2000', 'TARGA', 'TARGA_RAW', 'CINEON', 'DPX', 'OPEN_EXR_MULTILAYER', 'OPEN_EXR', 'HDR', 'TIFF', 'WEBP']\n",
        "output_extension = \"PNG\" # @param ['BMP', 'IRIS', 'PNG', 'JPEG', 'JPEG2000', 'TARGA', 'TARGA_RAW', 'CINEON', 'DPX', 'OPEN_EXR_MULTILAYER', 'OPEN_EXR', 'HDR', 'TIFF', 'WEBP', 'AVI_JPEG', 'AVI_RAW']\n",
        "# @markdown Frame Settings:\n",
        "current_frame = 0 # @param {type:\"integer\"}\n",
        "start_frame = 0 # @param {type:\"integer\"}\n",
        "end_frame = 1 # @param {type:\"integer\"}\n",
        "# @markdown Device Settings:\n",
        "engine = \"CYCLES\" # @param ['BLENDER_EEVEE', 'BLENDER_WORKBENCH', 'CYCLES']\n",
        "gpu_acceleration = \"CUDA\" # @param ['NONE', 'CUDA', 'OPTIX', 'HIP', 'ONEAPI']\n",
        "# @markdown ---\n",
        "\n",
        "dict_data = {\n",
        "    \"blend_file_name\": blend_file_name,\n",
        "    \"output_path\": output_path,\n",
        "    \"use_file_setting\": use_file_setting,\n",
        "    \"resolution_x\": resolution_x,\n",
        "    \"resolution_y\": resolution_y,\n",
        "    \"output_extension\": output_extension,\n",
        "    \"current_frame\": current_frame,\n",
        "    \"start_frame\": start_frame,\n",
        "    \"end_frame\": end_frame,\n",
        "    \"engine\": engine,\n",
        "    \"samples\": samples,\n",
        "    \"gpu_acceleration\": gpu_acceleration\n",
        "}\n",
        "settings_json_file_path = os.path.join(os.getcwd(), \"settings\", \"settings.json\")\n",
        "with open(settings_json_file_path, \"w\") as file:\n",
        "    json.dump(dict_data, file)\n"
      ]
    },
    {
      "cell_type": "code",
      "source": [
        "# @title ##Render\n",
        "\n",
        "render_animation = False # @param {type:\"boolean\"}\n",
        "\n",
        "from run_blender.run_blender_with_subprocess import run_blender_with_subprocess\n",
        "\n",
        "run_blender_with_subprocess(render_animation=render_animation)"
      ],
      "metadata": {
        "id": "G3olvgojfKdP",
        "cellView": "form"
      },
      "execution_count": null,
      "outputs": []
    }
  ]
}