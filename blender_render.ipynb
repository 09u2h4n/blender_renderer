{
  "nbformat": 4,
  "nbformat_minor": 0,
  "metadata": {
    "colab": {
      "provenance": [],
      "gpuType": "T4",
      "authorship_tag": "ABX9TyPAGWVpUcNFyvz1rOCKNYFo",
      "include_colab_link": true
    },
    "kernelspec": {
      "name": "python3",
      "display_name": "Python 3"
    },
    "language_info": {
      "name": "python"
    },
    "accelerator": "GPU"
  },
  "cells": [
    {
      "cell_type": "markdown",
      "metadata": {
        "id": "view-in-github",
        "colab_type": "text"
      },
      "source": [
        "<a href=\"https://colab.research.google.com/github/09u2h4n/blender_renderer/blob/main/blender_render.ipynb\" target=\"_parent\"><img src=\"https://colab.research.google.com/assets/colab-badge.svg\" alt=\"Open In Colab\"/></a>"
      ]
    },
    {
      "cell_type": "code",
      "execution_count": 1,
      "metadata": {
        "id": "m7UpkR0zoPfj",
        "collapsed": true,
        "cellView": "form"
      },
      "outputs": [],
      "source": [
        "# @title ## Prepare work env\n",
        "!rm -rf ./* /content/.git\n",
        "!rm -rf /content/sample_data /content/.config /content/.ipynb_checkpoints\n",
        "!git clone -q https://github.com/09u2h4n/blender_renderer.git .\n",
        "!mkdir -p /content/render"
      ]
    },
    {
      "cell_type": "code",
      "source": [
        "# @title ##Install Blender\n",
        "\n",
        "from utils.blender import download_blender, set_blender_for_linux\n",
        "\n",
        "blender_version = \"4.0.2\" # @param [\"3.6.4\", \"4.0.2\", \"latest\"]\n",
        "use_blender_on_drive = False # @param {type:\"boolean\"}\n",
        "\n",
        "if use_blender_on_drive:\n",
        "    set_blender_for_linux(blender_version=blender_version, use_blender_on_drive=use_blender_on_drive)\n",
        "else:\n",
        "    download_blender(blender_version=blender_version)\n",
        "    set_blender_for_linux(blender_version=blender_version)"
      ],
      "metadata": {
        "id": "NXOwgqitZbOY",
        "collapsed": true,
        "cellView": "form"
      },
      "execution_count": null,
      "outputs": []
    },
    {
      "cell_type": "code",
      "execution_count": 8,
      "metadata": {
        "cellView": "form",
        "id": "M5FIwLOyDHbO"
      },
      "outputs": [],
      "source": [
        "# @title ##Render Settings\n",
        "import os\n",
        "import json\n",
        "\n",
        "blend_file_name = \"cube.blend\" # @param {type:\"string\"}\n",
        "output_path = \"/content/output/output_file\" # @param {type:\"string\"}\n",
        "use_file_setting = False # @param {type:\"boolean\"}\n",
        "resolution_x = 1920 # @param {type:\"integer\"}\n",
        "resolution_y = 1080 # @param {type:\"integer\"}\n",
        "output_extension = \"JPEG\" # @param ['BMP', 'IRIS', 'PNG', 'JPEG', 'JPEG2000', 'TARGA', 'TARGA_RAW', 'CINEON', 'DPX', 'OPEN_EXR_MULTILAYER', 'OPEN_EXR', 'HDR', 'TIFF', 'WEBP']\n",
        "current_frame = 0 # @param {type:\"integer\"}\n",
        "start_frame = 0 # @param {type:\"integer\"}\n",
        "end_frame = 1 # @param {type:\"integer\"}\n",
        "engine = \"CYCLES\" # @param ['BLENDER_EEVEE', 'BLENDER_WORKBENCH', 'CYCLES']\n",
        "samples = 20 # @param {type:\"integer\"}\n",
        "device = \"GPU\" # @param [\"CPU\", \"GPU\"]\n",
        "\n",
        "dict_data = {\n",
        "    \"blend_file_name\": blend_file_name,\n",
        "    \"output_path\": output_path,\n",
        "    \"use_file_setting\": use_file_setting,\n",
        "    \"resolution_x\": resolution_x,\n",
        "    \"resolution_y\": resolution_y,\n",
        "    \"output_extension\": output_extension,\n",
        "    \"current_frame\": current_frame,\n",
        "    \"start_frame\": start_frame,\n",
        "    \"end_frame\": end_frame,\n",
        "    \"engine\": engine,\n",
        "    \"samples\": samples,\n",
        "    \"device\": device\n",
        "}\n",
        "settings_json_file_path = os.path.join(os.getcwd(), \"settings\", \"settings.json\")\n",
        "with open(settings_json_file_path, \"w\") as file:\n",
        "    json.dump(dict_data, file)\n"
      ]
    },
    {
      "cell_type": "code",
      "source": [
        "# @title ##Render\n",
        "\n",
        "render_animation = False # @param {type:\"boolean\"}\n",
        "\n",
        "from utils.utils import run_command\n",
        "\n",
        "blender_path = os.getenv(\"BLENDER_PATH\")\n",
        "\n",
        "settings_json_file_path = os.path.join(os.getcwd(), \"settings\", \"settings.json\")\n",
        "with open(settings_json_file_path) as file:\n",
        "    json_data = json.load(file)\n",
        "\n",
        "blend_file_name = json_data[\"blend_file_name\"]\n",
        "\n",
        "if os.sep not in blend_file_name:\n",
        "    blend_file_path = os.path.join(os.getcwd(), \"render\", blend_file_name)\n",
        "else:\n",
        "    blend_file_path = blend_file_name\n",
        "\n",
        "output_path = json_data[\"output_path\"]\n",
        "\n",
        "if os.sep not in output_path:\n",
        "    output_path = os.path.join(os.getcwd(), \"output\", \"output_image\")\n",
        "else:\n",
        "    output_path = output_path\n",
        "\n",
        "if blender_path:\n",
        "    print(\"Blender path is None please run set_blender() function.\")\n",
        "    exit()\n",
        "\n",
        "image_render_command = [blender_path, \"-b\", blend_file_path, \"-o\" , output_path, \"-P\", \"/content/settings/image_settings.py\"]\n",
        "animation_render_command = [blender_path, \"-b\", blend_file_path, \"-o\" , output_path, \"-P\", \"/content/settings/animation_settings.py\", \"-a\"]\n",
        "\n",
        "if render_animation:\n",
        "    run_command(animation_render_command)\n",
        "else:\n",
        "    run_command(image_render_command)"
      ],
      "metadata": {
        "id": "G3olvgojfKdP",
        "cellView": "form"
      },
      "execution_count": null,
      "outputs": []
    }
  ]
}