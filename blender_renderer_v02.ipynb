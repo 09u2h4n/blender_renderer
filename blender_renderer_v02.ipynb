{
  "nbformat": 4,
  "nbformat_minor": 0,
  "metadata": {
    "colab": {
      "provenance": [],
      "gpuType": "T4",
      "authorship_tag": "ABX9TyPX+xXhK5glEoEvAfxafKxR",
      "include_colab_link": true
    },
    "kernelspec": {
      "name": "python3",
      "display_name": "Python 3"
    },
    "language_info": {
      "name": "python"
    },
    "accelerator": "GPU"
  },
  "cells": [
    {
      "cell_type": "markdown",
      "metadata": {
        "id": "view-in-github",
        "colab_type": "text"
      },
      "source": [
        "<a href=\"https://colab.research.google.com/github/09u2h4n/blender_renderer/blob/main/blender_renderer_v02.ipynb\" target=\"_parent\"><img src=\"https://colab.research.google.com/assets/colab-badge.svg\" alt=\"Open In Colab\"/></a>"
      ]
    },
    {
      "cell_type": "markdown",
      "source": [
        "## Set Blender Usage\n",
        "blender_ver (Blender version): It will download blender and set the path.\n",
        "\n",
        "---\n",
        "\n",
        "## Render Single Image Usage\n",
        "\n",
        "* `file_name` (File name to render): It will be \"(file_name).blend\" format like chess.blend\n",
        "\n",
        "* `thread_num` (Thread number): Use amount of threads for rendering and other operations [1-1024], 0 for systems processor count.\n",
        "\n",
        "* `render_engine` (Render engine): Specify the render engine.\n",
        "\n",
        "* `frame_number` (Frame number): Render frame. frame_number=10 Render 10th frame.\n",
        "\n",
        "* `cycles_device` (Cycles device): Override the device that is used to render frames.\n",
        "\n",
        "* `hybrid_rendering` (Hybrid rendering): If it's checked it will try to render using both CPU and GPU but If `cycles_device` selected CPU it can't render hybrid.\n",
        "\n",
        "---\n",
        "\n",
        "## Render Animation Usage\n",
        "\n",
        "* `file_name` (File name to render): It will be \"(file_name).blend\" format like chess.blend\n",
        "\n",
        "* `thread_num` (Thread number): Use amount of threads for rendering and other operations [1-1024], 0 for systems processor count.\n",
        "\n",
        "* `render_engine` (Render engine): Specify the render engine.\n",
        "\n",
        "* `use_file_s_frame_settings` (Use file's frame settings): It uses file's frame settings. If it's checked you cant use **Frame's setting**.\n",
        "\n",
        "* `cycles_device` (Cycles device): Override the device that is used to render frames.\n",
        "\n",
        "* `hybrid_rendering` (Hybrid rendering): If it's checked it will try to render using both CPU and GPU but If `cycles_device` selected CPU it can't render hybrid.\n",
        "\n",
        "**Frame's setting**\n",
        "\n",
        "* `start_frame` (Start frame): Beginning of the frame to render.\n",
        "\n",
        "* `end_frame` (End frame): End of the frame to render.\n",
        "\n",
        "* `jump_frame` (Jump frame): It sets jumps frame. Extraction of next and\n",
        "previous frames.\n",
        "\n",
        "* `fps` (Frame per second): It sets fps.\n",
        "\n",
        "---\n"
      ],
      "metadata": {
        "id": "Gqm5BOaDI5Op"
      }
    },
    {
      "cell_type": "code",
      "source": [
        "# @title #Set Blender\n",
        "from google.colab import drive, runtime\n",
        "import os\n",
        "from time import sleep\n",
        "\n",
        "!rm -rf /content/sample_data\n",
        "!mkdir -p /content/render\n",
        "\n",
        "blender_ver = \"4.0.2\" # @param [\"3.6.4\",\"4.0.2\"]\n",
        "use_blender_on_drive = False\n",
        "\n",
        "blender_urls = {\n",
        "    \"3.6.4\":\"https://ftp.nluug.nl/pub/graphics/blender/release/Blender3.6/blender-3.6.4-linux-x64.tar.xz\",\n",
        "    \"4.0.2\":\"https://ftp.nluug.nl/pub/graphics/blender/release/Blender4.0/blender-4.0.2-linux-x64.tar.xz\"\n",
        "}\n",
        "\n",
        "blender_url = blender_urls[blender_ver]\n",
        "\n",
        "if use_blender_on_drive:\n",
        "  try:\n",
        "    drive.mount(\"/content/g_drive\")\n",
        "  except:\n",
        "    print(\"You have to accept that otherwise, app can't reach blender in your driver!\\nIf you want to continue to refuse you should uncheck 'use_on_drive'!\")\n",
        "    sleep(0.9)\n",
        "    runtime.unassign()\n",
        "  os.environ[\"LD_LIBRARY_PATH\"] = \"/content/g_drive/MyDrive/blender_software_for_colab/blender-3.6.4-linux-x64/lib\"\n",
        "  g_drive_blender_software_path = \"/content/g_drive/MyDrive/blender_software_for_colab\"\n",
        "  !mkdir {g_drive_blender_software_path}\n",
        "  os.chdir(g_drive_blender_software_path)\n",
        "  list_dir_blender_software = os.listdir()\n",
        "  if list_dir_blender_software == []:\n",
        "    list_dir_blender_software.append(\"debugging\")\n",
        "  blender_dir = f\"blender-{blender_ver}-linux-x64\"\n",
        "  for dir in list_dir_blender_software:\n",
        "    list_dir_blender = os.listdir(blender_dir) if blender_dir in dir else []\n",
        "    if dir in blender_dir and \"blender\" in list_dir_blender:\n",
        "        blender = f\"{g_drive_blender_software_path}/{blender_dir}/blender\"\n",
        "        !chmod +x $blender\n",
        "    else:\n",
        "      !wget {blender_url} -nc -O /content/blender.tar.xz\n",
        "      !tar -xf /content/blender.tar.xz\n",
        "      blender = f\"{g_drive_blender_software_path}/{blender_dir}/blender\"\n",
        "      !chmod +x $blender\n",
        "else:\n",
        "  !wget {blender_url} -c -O /content/blender.tar.xz\n",
        "  !tar -xf /content/blender.tar.xz\n",
        "  blender_dir = f\"blender-{blender_ver}-linux-x64\"\n",
        "  blender = f\"{blender_dir}/blender\"\n",
        "  !chmod +x $blender\n",
        "\n",
        "!rm -rf /content/*tar.xz\n",
        "os.makedirs(\"/content/textures\", exist_ok=True)\n",
        "os.makedirs(\"/content/Scripts\", exist_ok=True)"
      ],
      "metadata": {
        "id": "xvfyWTeE8yvA",
        "cellView": "form"
      },
      "execution_count": null,
      "outputs": []
    },
    {
      "cell_type": "code",
      "source": [
        "# @title #Texture setter file\n",
        "\n",
        "%%file /content/Scripts/textures.py\n",
        "import bpy\n",
        "import os\n",
        "\n",
        "# Directory containing the new texture files\n",
        "new_texture_dir = \"/content/textures\"  # Make sure to use the correct directory path\n",
        "\n",
        "# Dictionary to keep track of processed textures\n",
        "processed_textures = {}\n",
        "\n",
        "# Iterate through all objects in the scene\n",
        "for obj in bpy.data.objects:\n",
        "    # Process only mesh objects\n",
        "    if obj.type == 'MESH':\n",
        "        # Iterate through all material slots of the object\n",
        "        for slot in obj.material_slots:\n",
        "            if slot.material:\n",
        "                # Get the node tree of the material\n",
        "                tree = slot.material.node_tree\n",
        "                # Iterate through all nodes in the tree\n",
        "                for node in tree.nodes:\n",
        "                    # Check if the node is an image texture node and it has an image\n",
        "                    if node.type == 'TEX_IMAGE' and node.image:\n",
        "                        # Get the filename of the current image texture\n",
        "                        filename = os.path.basename(node.image.filepath)\n",
        "                        # Construct the full path of the new texture file\n",
        "                        new_texture_path = os.path.join(new_texture_dir, filename)\n",
        "                        # Update the filepath of the image texture node\n",
        "                        node.image.filepath = new_texture_path\n"
      ],
      "metadata": {
        "colab": {
          "base_uri": "https://localhost:8080/"
        },
        "cellView": "form",
        "id": "pIsJMU65iZ25",
        "outputId": "51f5e42c-4b36-47f6-ea26-a831b247d62c"
      },
      "execution_count": 14,
      "outputs": [
        {
          "output_type": "stream",
          "name": "stdout",
          "text": [
            "Writing /content/Scripts/textures.py\n"
          ]
        }
      ]
    },
    {
      "cell_type": "code",
      "source": [
        "# @title ## Render Single Image\n",
        "\n",
        "file_name = \"file_name_with_blend.blend\" # @param {type:\"string\"}\n",
        "thread_num = 0 # @param {type:\"slider\", min:0, max:1024, step:1}\n",
        "output_ext = \"DEFAULT\" # @param [\"TGA\", \"RAWTGA\", \"JPEG\", \"IRIS\", \"IRIZ\", \"AVIRAW\", \"AVIJPEG\", \"PNG\", \"BMP\", \"DEFAULT\"]\n",
        "output_ext = \" \" if output_ext == \"DEFAULT\" else f\" -F {output_ext} \"\n",
        "render_engine = \"CYCLES\" # @param [\"BLENDER_EEVEE\", \"BLENDER_WORKBENCH\", \"CYCLES\"]\n",
        "frame_number = 1 # @param {type:\"integer\"}\n",
        "frame_number = abs(frame_number)\n",
        "cycles_device = \"CUDA\" # @param [\"CPU\", \"CUDA\", \"OPTIX\", \"HIP\", \"ONEAPI\", \"METAL\"]\n",
        "\n",
        "!{blender} -b /content/render/{file_name} -P /content/Scripts/textures.py -o /content/output/ -t {thread_num}{output_ext}-E {render_engine} -f {frame_number} -- --cycles-device {cycles_device}"
      ],
      "metadata": {
        "id": "tyNUIjjMrDlo",
        "cellView": "form"
      },
      "execution_count": null,
      "outputs": []
    },
    {
      "cell_type": "markdown",
      "source": [
        "---"
      ],
      "metadata": {
        "id": "HzeD4QtwBswc"
      }
    },
    {
      "cell_type": "code",
      "source": [
        "# @title ## Render Animation\n",
        "\n",
        "file_name = \"file_name_with_blend.blend\" # @param {type:\"string\"}\n",
        "thread_num = 0 # @param {type:\"slider\", min:0, max:1024, step:1}\n",
        "output_ext = \"DEFAULT\" # @param [\"TGA\", \"RAWTGA\", \"JPEG\", \"IRIS\", \"IRIZ\", \"AVIRAW\", \"AVIJPEG\", \"PNG\", \"BMP\", \"DEFAULT\"]\n",
        "output_ext = \" \" if output_ext == \"DEFAULT\" else f\" -F {output_ext} \"\n",
        "render_engine = \"CYCLES\" # @param [\"BLENDER_EEVEE\", \"BLENDER_WORKBENCH\", \"CYCLES\"]\n",
        "cycles_device = \"CUDA\" # @param [\"CPU\", \"CUDA\", \"OPTIX\", \"HIP\", \"ONEAPI\", \"METAL\"]\n",
        "\n",
        "# @markdown ---\n",
        "# @markdown ## Frame's settings\n",
        "# @markdown If use_file_s_frame_settings checked you can't use frame setting.\n",
        "use_file_s_frame_settings = True # @param {type:\"boolean\"}\n",
        "start_frame = 0 # @param {type:\"integer\"}\n",
        "end_frame = 255 # @param {type:\"integer\"}\n",
        "jump_frame = 0 # @param {type:\"integer\"}\n",
        "fps = 30 # @param {type:\"integer\"}\n",
        "start_frame = abs(start_frame)\n",
        "end_frame = abs(end_frame)\n",
        "jump_frame = abs(jump_frame)\n",
        "fps = abs(fps)\n",
        "# @markdown ---\n",
        "\n",
        "if use_file_s_frame_settings:\n",
        "  !{blender} -b /content/render/{file_name} -P /content/Scripts/textures.py -o /content/output/ -t {thread_num}{output_ext}-E {render_engine} -a -- --cycles-device {cycles_device}\n",
        "else:\n",
        "  !{blender} -b /content/render/{file_name} -P /content/Scripts/textures.py -o /content/output/ -t {thread_num}{output_ext}-E {render_engine} -s {start_frame} -e {end_frame} -j {jump_frame} -a -- --cycles-device {cycles_device}"
      ],
      "metadata": {
        "id": "VhgH6bnJ93yK",
        "cellView": "form"
      },
      "execution_count": null,
      "outputs": []
    }
  ]
}